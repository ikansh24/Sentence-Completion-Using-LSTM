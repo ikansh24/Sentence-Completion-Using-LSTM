{
  "nbformat": 4,
  "nbformat_minor": 0,
  "metadata": {
    "colab": {
      "provenance": [],
      "gpuType": "T4"
    },
    "kernelspec": {
      "name": "python3",
      "display_name": "Python 3"
    },
    "language_info": {
      "name": "python"
    },
    "accelerator": "GPU"
  },
  "cells": [
    {
      "cell_type": "code",
      "execution_count": 1,
      "metadata": {
        "id": "2tKF8IcaRYSH"
      },
      "outputs": [],
      "source": [
        "import os\n",
        "import pandas as pd\n",
        "import numpy as np\n",
        "import tensorflow as tf\n",
        "from tensorflow.keras.preprocessing.sequence import pad_sequences\n",
        "from tensorflow.keras.layers import Embedding, LSTM, Dense, Dropout, Bidirectional\n",
        "from tensorflow.keras.preprocessing.text import Tokenizer\n",
        "from tensorflow.keras.models import Sequential\n",
        "from tensorflow.keras.optimizers import Adam\n",
        "import nltk\n",
        "import re"
      ]
    },
    {
      "cell_type": "code",
      "source": [
        "input_file = 'holmes.txt'\n",
        "\n",
        "with open(input_file,'r', encoding = 'utf-8') as infile:\n",
        "  data = infile.read()"
      ],
      "metadata": {
        "id": "xQjyJhNwVIHZ"
      },
      "execution_count": 2,
      "outputs": []
    },
    {
      "cell_type": "code",
      "source": [
        "data[:200]"
      ],
      "metadata": {
        "colab": {
          "base_uri": "https://localhost:8080/",
          "height": 53
        },
        "id": "9ptAOI7uWLtX",
        "outputId": "c6143a79-efd3-4024-d222-90d662639f66"
      },
      "execution_count": 3,
      "outputs": [
        {
          "output_type": "execute_result",
          "data": {
            "text/plain": [
              "\"*Project Gutenberg's Etext of Tom Swift And His Submarine Boat*\\n\\n#4 in the Victor Appleton's Tom Swift Series\\n\\nWe name these Etext files as they are numbered in the books,\\n\\ni.e. This is #4 in the seri\""
            ],
            "application/vnd.google.colaboratory.intrinsic+json": {
              "type": "string"
            }
          },
          "metadata": {},
          "execution_count": 3
        }
      ]
    },
    {
      "cell_type": "code",
      "source": [
        "data = data[:500000]"
      ],
      "metadata": {
        "id": "s2XDJ5p2WdnA"
      },
      "execution_count": 4,
      "outputs": []
    },
    {
      "cell_type": "markdown",
      "source": [
        "# Clean Text"
      ],
      "metadata": {
        "id": "HldaxzGEWkdm"
      }
    },
    {
      "cell_type": "code",
      "source": [
        "def remove_emojis_and_special_characters(text):\n",
        "  #removing special characters\n",
        "  text=re.sub(r'[^a-zA-Z0-9\\s]','',text)\n",
        "\n",
        "  #removing extra spaces\n",
        "  text = re.sub(' +',' ',text)\n",
        "\n",
        "  return text"
      ],
      "metadata": {
        "id": "Fqzf_0QzWnER"
      },
      "execution_count": 5,
      "outputs": []
    },
    {
      "cell_type": "code",
      "source": [
        "#Preprocessing pipeline\n",
        "def preprocess_pipeline(data) -> 'list':\n",
        "  #Spliting by newline\n",
        "  sentences = data.split('\\n')\n",
        "  for i in range(len(sentences)):\n",
        "    sentences[i]= remove_emojis_and_special_characters(sentences[i])\n",
        "  #remove leading and trailing spaces\n",
        "  sentences = [s.strip() for s in sentences]\n",
        "  #Droping empty sentences\n",
        "  sentences = [s for s in sentences if len(s)>0]\n",
        "\n",
        "  tokenized = []\n",
        "  for sentence in sentences:\n",
        "    sentence = sentence.lower()\n",
        "    tokenized.append(sentence)\n",
        "  return tokenized\n",
        "\n",
        "tokenized_sentences = preprocess_pipeline(data)"
      ],
      "metadata": {
        "id": "EM6i8H1EbTFY"
      },
      "execution_count": 6,
      "outputs": []
    },
    {
      "cell_type": "code",
      "source": [
        "tokenized_sentences[:10]"
      ],
      "metadata": {
        "colab": {
          "base_uri": "https://localhost:8080/"
        },
        "id": "a7IGIo6zc7PA",
        "outputId": "9a56e51a-18ba-436b-f398-1204bd4703c4"
      },
      "execution_count": 7,
      "outputs": [
        {
          "output_type": "execute_result",
          "data": {
            "text/plain": [
              "['project gutenbergs etext of tom swift and his submarine boat',\n",
              " '4 in the victor appletons tom swift series',\n",
              " 'we name these etext files as they are numbered in the books',\n",
              " 'ie this is 4 in the series so the file name is 04tomxxxxxx',\n",
              " 'where the xs are place holders for editon and file type such',\n",
              " 'as 04tom10txt and 04tom10zip when we do a htm 04tom10hhtm',\n",
              " 'copyright laws are changing all over the world be sure to check',\n",
              " 'the copyright laws for your country before posting these files',\n",
              " 'please take a look at the important information in this header',\n",
              " 'we encourage you to keep this file on your own disk keeping an']"
            ]
          },
          "metadata": {},
          "execution_count": 7
        }
      ]
    },
    {
      "cell_type": "code",
      "source": [
        "#Tokenizing words (Out of vocabulary tokenizer)\n",
        "#Assigning unique ids\n",
        "tokenizer = Tokenizer(oov_token = '<oov>')\n",
        "tokenizer.fit_on_texts(tokenized_sentences)\n",
        "total_words = len(tokenizer.word_index) +1\n",
        "\n",
        "\"\"\"\n",
        "n_gram example:\n",
        "[3, 15, 8, 7, 20, 12, 6]\n",
        "\n",
        "For the above sentece sentence, the code would generate the following n-gram sequences:\n",
        "\n",
        "[3, 15]\n",
        "[3, 15, 8]\n",
        "[3, 15, 8, 7]\n",
        "[3, 15, 8, 7, 20]\n",
        "[3, 15, 8, 7, 20, 12]\n",
        "[3, 15, 8, 7, 20, 12, 6]\n",
        "\"\"\"\n",
        "\n",
        "#Generating input sequences\n",
        "input_sequences = []\n",
        "for line in tokenized_sentences:\n",
        "  token_list = tokenizer.texts_to_sequences([line])[0]\n",
        "  for i in range(1, len(token_list)):\n",
        "    n_gram_sequence = token_list[:i+1]\n",
        "    input_sequences.append(n_gram_sequence)\n",
        "\n",
        "#Pad sequences\n",
        "max_sequence_len = max([len(x) for x in input_sequences])\n",
        "input_sequences = np.array(pad_sequences(input_sequences,maxlen= max_sequence_len,padding='pre'))"
      ],
      "metadata": {
        "id": "m0Z9VRX9c7VQ"
      },
      "execution_count": 8,
      "outputs": []
    },
    {
      "cell_type": "code",
      "source": [
        "input_sequences"
      ],
      "metadata": {
        "colab": {
          "base_uri": "https://localhost:8080/"
        },
        "id": "FenvuL5Toqrv",
        "outputId": "648bbcf0-620f-4763-db9e-889f7a408940"
      },
      "execution_count": 9,
      "outputs": [
        {
          "output_type": "execute_result",
          "data": {
            "text/plain": [
              "array([[   0,    0,    0, ...,    0,  218, 1569],\n",
              "       [   0,    0,    0, ...,  218, 1569,  211],\n",
              "       [   0,    0,    0, ..., 1569,  211,    5],\n",
              "       ...,\n",
              "       [   0,    0,    0, ...,   12,   37,    4],\n",
              "       [   0,    0,    0, ...,   37,    4,   15],\n",
              "       [   0,    0,    0, ...,    4,   15, 6119]], dtype=int32)"
            ]
          },
          "metadata": {},
          "execution_count": 9
        }
      ]
    },
    {
      "cell_type": "code",
      "source": [
        "#Removing last word for train test spliting\n",
        "X,labels= input_sequences[:,:-1],input_sequences[:,-1]\n",
        "ys = tf.keras.utils.to_categorical(labels,num_classes=total_words) #conversion to binary no"
      ],
      "metadata": {
        "id": "Heiav3cFl9eX"
      },
      "execution_count": 10,
      "outputs": []
    },
    {
      "cell_type": "code",
      "source": [
        "#Spliting data to training, validation and test sets\n",
        "from sklearn.model_selection import train_test_split\n",
        "X_train_temp, X_val_test, y_train_temp, y_val_test = train_test_split(X, ys, test_size=0.2, random_state=42)\n",
        "X_val, X_test, y_val, y_test = train_test_split(X_val_test, y_val_test, test_size=0.5, random_state=42)"
      ],
      "metadata": {
        "id": "i0dy7gjysQ82"
      },
      "execution_count": 11,
      "outputs": []
    },
    {
      "cell_type": "markdown",
      "source": [
        "# Training LSTM Model"
      ],
      "metadata": {
        "id": "FxjO_CXjs90W"
      }
    },
    {
      "cell_type": "code",
      "source": [
        "model = Sequential()\n",
        "model.add(Embedding(total_words, 100))\n",
        "model.add(Bidirectional(LSTM(150)))\n",
        "model.add(Dense(total_words, activation='softmax'))\n",
        "\n",
        "adam = Adam(learning_rate=0.01)\n",
        "model.compile(loss='categorical_crossentropy', optimizer=adam, metrics=['accuracy'])\n",
        "\n",
        "# Train the model\n",
        "history = model.fit(X_train_temp, y_train_temp, epochs=30, validation_data=(X_val, y_val), verbose=1)"
      ],
      "metadata": {
        "id": "gZjfELVAti6Z",
        "colab": {
          "base_uri": "https://localhost:8080/"
        },
        "outputId": "bb8be701-1cd3-46be-a7cb-e04cfa0ad43d"
      },
      "execution_count": 12,
      "outputs": [
        {
          "output_type": "stream",
          "name": "stdout",
          "text": [
            "Epoch 1/30\n",
            "\u001b[1m2002/2002\u001b[0m \u001b[32m━━━━━━━━━━━━━━━━━━━━\u001b[0m\u001b[37m\u001b[0m \u001b[1m24s\u001b[0m 9ms/step - accuracy: 0.0955 - loss: 6.2834 - val_accuracy: 0.1389 - val_loss: 5.6470\n",
            "Epoch 2/30\n",
            "\u001b[1m2002/2002\u001b[0m \u001b[32m━━━━━━━━━━━━━━━━━━━━\u001b[0m\u001b[37m\u001b[0m \u001b[1m37s\u001b[0m 9ms/step - accuracy: 0.1544 - loss: 5.1520 - val_accuracy: 0.1519 - val_loss: 5.6231\n",
            "Epoch 3/30\n",
            "\u001b[1m2002/2002\u001b[0m \u001b[32m━━━━━━━━━━━━━━━━━━━━\u001b[0m\u001b[37m\u001b[0m \u001b[1m21s\u001b[0m 9ms/step - accuracy: 0.1770 - loss: 4.6583 - val_accuracy: 0.1534 - val_loss: 5.7466\n",
            "Epoch 4/30\n",
            "\u001b[1m2002/2002\u001b[0m \u001b[32m━━━━━━━━━━━━━━━━━━━━\u001b[0m\u001b[37m\u001b[0m \u001b[1m20s\u001b[0m 9ms/step - accuracy: 0.2000 - loss: 4.2711 - val_accuracy: 0.1520 - val_loss: 5.9800\n",
            "Epoch 5/30\n",
            "\u001b[1m2002/2002\u001b[0m \u001b[32m━━━━━━━━━━━━━━━━━━━━\u001b[0m\u001b[37m\u001b[0m \u001b[1m20s\u001b[0m 9ms/step - accuracy: 0.2207 - loss: 3.9942 - val_accuracy: 0.1571 - val_loss: 6.1952\n",
            "Epoch 6/30\n",
            "\u001b[1m2002/2002\u001b[0m \u001b[32m━━━━━━━━━━━━━━━━━━━━\u001b[0m\u001b[37m\u001b[0m \u001b[1m17s\u001b[0m 9ms/step - accuracy: 0.2345 - loss: 3.8021 - val_accuracy: 0.1541 - val_loss: 6.4530\n",
            "Epoch 7/30\n",
            "\u001b[1m2002/2002\u001b[0m \u001b[32m━━━━━━━━━━━━━━━━━━━━\u001b[0m\u001b[37m\u001b[0m \u001b[1m21s\u001b[0m 9ms/step - accuracy: 0.2484 - loss: 3.6638 - val_accuracy: 0.1474 - val_loss: 6.6669\n",
            "Epoch 8/30\n",
            "\u001b[1m2002/2002\u001b[0m \u001b[32m━━━━━━━━━━━━━━━━━━━━\u001b[0m\u001b[37m\u001b[0m \u001b[1m20s\u001b[0m 9ms/step - accuracy: 0.2575 - loss: 3.5577 - val_accuracy: 0.1520 - val_loss: 6.8601\n",
            "Epoch 9/30\n",
            "\u001b[1m2002/2002\u001b[0m \u001b[32m━━━━━━━━━━━━━━━━━━━━\u001b[0m\u001b[37m\u001b[0m \u001b[1m21s\u001b[0m 9ms/step - accuracy: 0.2651 - loss: 3.4899 - val_accuracy: 0.1480 - val_loss: 7.0547\n",
            "Epoch 10/30\n",
            "\u001b[1m2002/2002\u001b[0m \u001b[32m━━━━━━━━━━━━━━━━━━━━\u001b[0m\u001b[37m\u001b[0m \u001b[1m20s\u001b[0m 9ms/step - accuracy: 0.2711 - loss: 3.4208 - val_accuracy: 0.1513 - val_loss: 7.2962\n",
            "Epoch 11/30\n",
            "\u001b[1m2002/2002\u001b[0m \u001b[32m━━━━━━━━━━━━━━━━━━━━\u001b[0m\u001b[37m\u001b[0m \u001b[1m18s\u001b[0m 9ms/step - accuracy: 0.2743 - loss: 3.3983 - val_accuracy: 0.1516 - val_loss: 7.4392\n",
            "Epoch 12/30\n",
            "\u001b[1m2002/2002\u001b[0m \u001b[32m━━━━━━━━━━━━━━━━━━━━\u001b[0m\u001b[37m\u001b[0m \u001b[1m20s\u001b[0m 9ms/step - accuracy: 0.2843 - loss: 3.3305 - val_accuracy: 0.1454 - val_loss: 7.6488\n",
            "Epoch 13/30\n",
            "\u001b[1m2002/2002\u001b[0m \u001b[32m━━━━━━━━━━━━━━━━━━━━\u001b[0m\u001b[37m\u001b[0m \u001b[1m23s\u001b[0m 10ms/step - accuracy: 0.2888 - loss: 3.2922 - val_accuracy: 0.1489 - val_loss: 7.7639\n",
            "Epoch 14/30\n",
            "\u001b[1m2002/2002\u001b[0m \u001b[32m━━━━━━━━━━━━━━━━━━━━\u001b[0m\u001b[37m\u001b[0m \u001b[1m18s\u001b[0m 9ms/step - accuracy: 0.2875 - loss: 3.2986 - val_accuracy: 0.1468 - val_loss: 7.9179\n",
            "Epoch 15/30\n",
            "\u001b[1m2002/2002\u001b[0m \u001b[32m━━━━━━━━━━━━━━━━━━━━\u001b[0m\u001b[37m\u001b[0m \u001b[1m22s\u001b[0m 9ms/step - accuracy: 0.2951 - loss: 3.2425 - val_accuracy: 0.1461 - val_loss: 8.1120\n",
            "Epoch 16/30\n",
            "\u001b[1m2002/2002\u001b[0m \u001b[32m━━━━━━━━━━━━━━━━━━━━\u001b[0m\u001b[37m\u001b[0m \u001b[1m19s\u001b[0m 9ms/step - accuracy: 0.2904 - loss: 3.2723 - val_accuracy: 0.1429 - val_loss: 8.2064\n",
            "Epoch 17/30\n",
            "\u001b[1m2002/2002\u001b[0m \u001b[32m━━━━━━━━━━━━━━━━━━━━\u001b[0m\u001b[37m\u001b[0m \u001b[1m17s\u001b[0m 9ms/step - accuracy: 0.2927 - loss: 3.2430 - val_accuracy: 0.1440 - val_loss: 8.3602\n",
            "Epoch 18/30\n",
            "\u001b[1m2002/2002\u001b[0m \u001b[32m━━━━━━━━━━━━━━━━━━━━\u001b[0m\u001b[37m\u001b[0m \u001b[1m21s\u001b[0m 9ms/step - accuracy: 0.2923 - loss: 3.2951 - val_accuracy: 0.1390 - val_loss: 8.4203\n",
            "Epoch 19/30\n",
            "\u001b[1m2002/2002\u001b[0m \u001b[32m━━━━━━━━━━━━━━━━━━━━\u001b[0m\u001b[37m\u001b[0m \u001b[1m21s\u001b[0m 9ms/step - accuracy: 0.2907 - loss: 3.2528 - val_accuracy: 0.1435 - val_loss: 8.5211\n",
            "Epoch 20/30\n",
            "\u001b[1m2002/2002\u001b[0m \u001b[32m━━━━━━━━━━━━━━━━━━━━\u001b[0m\u001b[37m\u001b[0m \u001b[1m20s\u001b[0m 9ms/step - accuracy: 0.2976 - loss: 3.2277 - val_accuracy: 0.1426 - val_loss: 8.6393\n",
            "Epoch 21/30\n",
            "\u001b[1m2002/2002\u001b[0m \u001b[32m━━━━━━━━━━━━━━━━━━━━\u001b[0m\u001b[37m\u001b[0m \u001b[1m17s\u001b[0m 9ms/step - accuracy: 0.2961 - loss: 3.2311 - val_accuracy: 0.1399 - val_loss: 8.7136\n",
            "Epoch 22/30\n",
            "\u001b[1m2002/2002\u001b[0m \u001b[32m━━━━━━━━━━━━━━━━━━━━\u001b[0m\u001b[37m\u001b[0m \u001b[1m21s\u001b[0m 9ms/step - accuracy: 0.3000 - loss: 3.2178 - val_accuracy: 0.1445 - val_loss: 8.8702\n",
            "Epoch 23/30\n",
            "\u001b[1m2002/2002\u001b[0m \u001b[32m━━━━━━━━━━━━━━━━━━━━\u001b[0m\u001b[37m\u001b[0m \u001b[1m21s\u001b[0m 9ms/step - accuracy: 0.3024 - loss: 3.2134 - val_accuracy: 0.1453 - val_loss: 8.9863\n",
            "Epoch 24/30\n",
            "\u001b[1m2002/2002\u001b[0m \u001b[32m━━━━━━━━━━━━━━━━━━━━\u001b[0m\u001b[37m\u001b[0m \u001b[1m20s\u001b[0m 9ms/step - accuracy: 0.2916 - loss: 3.2874 - val_accuracy: 0.1408 - val_loss: 9.0507\n",
            "Epoch 25/30\n",
            "\u001b[1m2002/2002\u001b[0m \u001b[32m━━━━━━━━━━━━━━━━━━━━\u001b[0m\u001b[37m\u001b[0m \u001b[1m21s\u001b[0m 9ms/step - accuracy: 0.2989 - loss: 3.2348 - val_accuracy: 0.1418 - val_loss: 9.0309\n",
            "Epoch 26/30\n",
            "\u001b[1m2002/2002\u001b[0m \u001b[32m━━━━━━━━━━━━━━━━━━━━\u001b[0m\u001b[37m\u001b[0m \u001b[1m18s\u001b[0m 9ms/step - accuracy: 0.3065 - loss: 3.1766 - val_accuracy: 0.1418 - val_loss: 9.1319\n",
            "Epoch 27/30\n",
            "\u001b[1m2002/2002\u001b[0m \u001b[32m━━━━━━━━━━━━━━━━━━━━\u001b[0m\u001b[37m\u001b[0m \u001b[1m20s\u001b[0m 9ms/step - accuracy: 0.3026 - loss: 3.2016 - val_accuracy: 0.1389 - val_loss: 9.2603\n",
            "Epoch 28/30\n",
            "\u001b[1m2002/2002\u001b[0m \u001b[32m━━━━━━━━━━━━━━━━━━━━\u001b[0m\u001b[37m\u001b[0m \u001b[1m18s\u001b[0m 9ms/step - accuracy: 0.3045 - loss: 3.1977 - val_accuracy: 0.1398 - val_loss: 9.4088\n",
            "Epoch 29/30\n",
            "\u001b[1m2002/2002\u001b[0m \u001b[32m━━━━━━━━━━━━━━━━━━━━\u001b[0m\u001b[37m\u001b[0m \u001b[1m21s\u001b[0m 9ms/step - accuracy: 0.2973 - loss: 3.2692 - val_accuracy: 0.1383 - val_loss: 9.5518\n"
          ]
        }
      ]
    },
    {
      "cell_type": "code",
      "source": [
        "import matplotlib.pyplot as plt\n",
        "import seaborn as sns\n",
        "from sklearn.metrics import confusion_matrix"
      ],
      "metadata": {
        "id": "14Nu-xZpzezz"
      },
      "execution_count": 13,
      "outputs": []
    },
    {
      "cell_type": "code",
      "source": [
        "plt.plot(history.history['loss'], label='Training Loss')\n",
        "plt.plot(history.history['val_loss'], label='Validation Loss')\n",
        "plt.title('Training and Validation Loss')\n",
        "plt.xlabel('Epochs')\n",
        "plt.ylabel('Loss')\n",
        "plt.legend()\n",
        "plt.show()\n",
        "\n",
        "# Plot Accuracy\n",
        "plt.plot(history.history['accuracy'], label='Training Accuracy')\n",
        "plt.plot(history.history['val_accuracy'], label='Validation Accuracy')\n",
        "plt.title('Training and Validation Accuracy')\n",
        "plt.xlabel('Epochs')\n",
        "plt.ylabel('Accuracy')\n",
        "plt.legend()\n",
        "plt.show()"
      ],
      "metadata": {
        "colab": {
          "base_uri": "https://localhost:8080/",
          "height": 927
        },
        "id": "u_tLLr5m1Cv3",
        "outputId": "3240fb58-ec8a-4a9c-bd02-3255cf11e149"
      },
      "execution_count": 14,
      "outputs": [
        {
          "output_type": "display_data",
          "data": {
            "text/plain": [
              "<Figure size 640x480 with 1 Axes>"
            ],
            "image/png": "[encoded data removed]"
          },
          "metadata": {}
        },
        {
          "output_type": "display_data",
          "data": {
            "text/plain": [
              "<Figure size 640x480 with 1 Axes>"
            ],
            "image/png": "[encoded data removed]"
          },
          "metadata": {}
        }
      ]
    },
    {
      "cell_type": "markdown",
      "source": [
        "# Displaying Results"
      ],
      "metadata": {
        "id": "WAqR2BtLmj66"
      }
    },
    {
      "cell_type": "code",
      "source": [
        "from IPython.display import HTML\n",
        "\n",
        "def predict_top_five_words(model, tokenizer, seed_text):\n",
        "    token_list = tokenizer.texts_to_sequences([seed_text])[0]\n",
        "    token_list = pad_sequences([token_list], maxlen=max_sequence_len-1, padding='pre')\n",
        "    predicted = model.predict(token_list, verbose=0)\n",
        "    top_five_indexes = np.argsort(predicted[0])[::-1][:5]\n",
        "    top_five_words = []\n",
        "    for index in top_five_indexes:\n",
        "        for word, idx in tokenizer.word_index.items():\n",
        "            if idx == index:\n",
        "                top_five_words.append(word)\n",
        "                break\n",
        "    return top_five_words\n",
        "\n",
        "def predict_and_display_top_five_words(seed_text,model,tokenizer):\n",
        "  top_five_words = predict_top_five_words(model,tokenizer,seed_text)\n",
        "  heading_app = f\"<h1>Sentence Auto Completion App</h1>\"\n",
        "  output_text = f\"<ul>{''.join([f'<li>{seed_text} {word}</li>' for word in top_five_words])}</ul>\"\n",
        "  javascript_code = f\"\"\"\n",
        "  <script>\n",
        "    var newWindow = window.open(\"\",\"_blank\");\n",
        "    newWindow.document.write('<html><head><title>Top Five Words</title></head><body>{heading_app} <br> <hr> {output_text}</body></html>');\n",
        "  </script>\n",
        "  \"\"\"\n",
        "  return HTML(javascript_code)\n"
      ],
      "metadata": {
        "id": "vE5o_SHR3EaJ"
      },
      "execution_count": 15,
      "outputs": []
    },
    {
      "cell_type": "code",
      "source": [
        "seed_text = \"How are\"\n",
        "predict_and_display_top_five_words(seed_text,model, tokenizer,)"
      ],
      "metadata": {
        "colab": {
          "base_uri": "https://localhost:8080/",
          "height": 17
        },
        "id": "Hep_V7cP1Hf_",
        "outputId": "5ef6012c-5ddc-4e6e-d55e-16cdd15471f9"
      },
      "execution_count": 20,
      "outputs": [
        {
          "output_type": "execute_result",
          "data": {
            "text/plain": [
              "<IPython.core.display.HTML object>"
            ],
            "text/html": [
              "\n",
              "  <script>\n",
              "    var newWindow = window.open(\"\",\"_blank\");\n",
              "    newWindow.document.write('<html><head><title>Top Five Words</title></head><body><h1>Sentence Auto Completion App</h1> <br> <hr> <ul><li>How are you</li><li>How are not</li><li>How are he</li><li>How are we</li><li>How are it</li></ul></body></html>');\n",
              "  </script>\n",
              "  "
            ]
          },
          "metadata": {},
          "execution_count": 20
        }
      ]
    },
    {
      "cell_type": "code",
      "source": [
        "seed_text = \"I love\"\n",
        "predict_top_five_words(model, tokenizer, seed_text)"
      ],
      "metadata": {
        "colab": {
          "base_uri": "https://localhost:8080/"
        },
        "id": "zsZjEem63XSJ",
        "outputId": "fed2d10e-573a-4b25-bd0a-95012761bd3d"
      },
      "execution_count": 21,
      "outputs": [
        {
          "output_type": "execute_result",
          "data": {
            "text/plain": [
              "['young', 'signal', 'surface', 'runabout', 'assented']"
            ]
          },
          "metadata": {},
          "execution_count": 21
        }
      ]
    },
    {
      "cell_type": "code",
      "source": [
        "seed_text = \"How are\"\n",
        "predict_top_five_words(model, tokenizer, seed_text)"
      ],
      "metadata": {
        "colab": {
          "base_uri": "https://localhost:8080/"
        },
        "id": "L_s3lolF3stl",
        "outputId": "2cb5c0fc-008f-402d-d852-ac2bf25f4434"
      },
      "execution_count": 22,
      "outputs": [
        {
          "output_type": "execute_result",
          "data": {
            "text/plain": [
              "['you', 'not', 'he', 'we', 'it']"
            ]
          },
          "metadata": {},
          "execution_count": 22
        }
      ]
    },
    {
      "cell_type": "code",
      "source": [
        "# Save model and tokenizer\n",
        "model.save('sentence_completion_model.h5')\n",
        "\n",
        "import pickle\n",
        "with open('tokenizer.pickle', 'wb') as handle:\n",
        "    pickle.dump(tokenizer, handle, protocol=pickle.HIGHEST_PROTOCOL)\n"
      ],
      "metadata": {
        "colab": {
          "base_uri": "https://localhost:8080/"
        },
        "id": "CTDOLxmGoFXr",
        "outputId": "4d3a70cd-bef2-4139-e39d-507426be1c48"
      },
      "execution_count": 23,
      "outputs": [
        {
          "output_type": "stream",
          "name": "stderr",
          "text": [
            "WARNING:absl:You are saving your model as an HDF5 file via `model.save()` or `keras.saving.save_model(model)`. This file format is considered legacy. We recommend using instead the native Keras format, e.g. `model.save('my_model.keras')` or `keras.saving.save_model(model, 'my_model.keras')`. \n"
          ]
        }
      ]
    }
  ]
}